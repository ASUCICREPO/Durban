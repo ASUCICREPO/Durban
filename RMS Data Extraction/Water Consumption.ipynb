{
 "cells": [
  {
   "cell_type": "code",
   "execution_count": 180,
   "metadata": {},
   "outputs": [
    {
     "data": {
      "text/plain": [
       "['37 Field Extract_11 Sept CSV.csv',\n",
       " '37 Field Extract_30 July 2020 CSV.csv',\n",
       " '37 Field Extract_30 April 2020.csv',\n",
       " '37 Field Extract_27 August 2020 CSV.csv',\n",
       " '37 Field Extract_14 May 2020.csv',\n",
       " '37 Field Extract_20 Feb 2020 CSV.csv',\n",
       " '37 Field Extract_27 Jan 2020 CSV.csv',\n",
       " '37 Field Extract_25 June 2020.csv',\n",
       " '37 Field Extract_11 March 2020.csv']"
      ]
     },
     "execution_count": 180,
     "metadata": {},
     "output_type": "execute_result"
    }
   ],
   "source": [
    "import os \n",
    "os.getcwd()\n",
    "\n",
    "# assign the path with location of data to this variable before running the following functions\n",
    "data_path = \"Replace with path to csv files\"\n",
    "\n",
    "import numpy as np\n",
    "\n",
    "from os import listdir\n",
    "from os.path import isfile, join\n",
    "csv_files = [f for f in listdir(data_path) if isfile(join(data_path, f)) and f.endswith(\".csv\")]\n",
    "\n",
    "# print list of .csv files found in the path given\n",
    "csv_files"
   ]
  },
  {
   "cell_type": "code",
   "execution_count": 182,
   "metadata": {},
   "outputs": [],
   "source": [
    "from datetime import date\n",
    "import dateutil.parser\n",
    "\n",
    "# start and end dates for data extraction\n",
    "start = date(2020, 1, 1)\n",
    "end = date(2020, 12, 31)\n",
    "\n",
    "# data cleanup func to remove any braces and convert data to float\n",
    "def consumption_format_helper(x):\n",
    "    return x if type(x).__name__ == 'float' else float(x.strip(\"()\"))\n",
    "\n",
    "# parse date into required format\n",
    "def date_helper(current_date):\n",
    "    return dateutil.parser.parse(str(current_date)).date()\n",
    "\n",
    "\n",
    "def transform_data(df):\n",
    "    \n",
    "    # sort values based on READ_DATE in descending order. This gives the latest reading. \n",
    "    # groupby PROPERTY_KEY and POD_NO to get value for each meter. \n",
    "    # extract ['PROPERTY_KEY', 'POD_NO', 'CONSUMPTION_TYPE', 'READ_DATE', 'DAILY_AVG_CONSUMPTION'] as resultant DataFrame\n",
    "    temp = df.sort_values(['READ_DATE'],ascending=False).groupby(['PROPERTY_KEY', 'POD_NO']).head(1)[['PROPERTY_KEY', 'POD_NO', 'CONSUMPTION_TYPE', 'READ_DATE', 'DAILY_AVG_CONSUMPTION']]\n",
    "    \n",
    "    # convert READ_DATE values to String if not null (represented by nan in df)\n",
    "    temp = temp[temp['READ_DATE'].map(lambda x: str(x) != 'nan')]\n",
    "    \n",
    "    # filter out readings for meters of CONSUMPTION_TYPE=Zone Meter\n",
    "    temp = temp[temp['CONSUMPTION_TYPE'].map(lambda x: str(x) != 'Zone Meter')]\n",
    "    \n",
    "    # convert READ_DATE to compatible format\n",
    "    temp['READ_DATE'] = temp.apply(lambda row : date_helper(row['READ_DATE']), axis = 1)\n",
    "    \n",
    "    # filter out meter readings outside the time period specified by start and end dates\n",
    "    temp = temp[(temp['READ_DATE'] >= start) & (temp['READ_DATE'] <= end )]\n",
    "    \n",
    "    # create new field MONTLY_CONSUMPTION as 30 x DAILY_AVG_CONSUMPTION for a given meter\n",
    "    temp['MONTHLY_CONSUMPTION'] = temp.apply(lambda row : 30 * consumption_format_helper(row['DAILY_AVG_CONSUMPTION']), axis = 1)\n",
    "    \n",
    "    return temp"
   ]
  },
  {
   "cell_type": "code",
   "execution_count": 185,
   "metadata": {},
   "outputs": [
    {
     "name": "stdout",
     "output_type": "stream",
     "text": [
      "Started Processing files in folder: /Users/sujaygd/Desktop/ASU CIC Part time/Durban/Data/RMS Data/2020\n",
      "\n",
      "Processing file: 37 Field Extract_11 Sept CSV.csv\n",
      "\n",
      "Processing file: 37 Field Extract_30 July 2020 CSV.csv\n",
      "\n",
      "Processing file: 37 Field Extract_30 April 2020.csv\n",
      "\n",
      "Processing file: 37 Field Extract_27 August 2020 CSV.csv\n",
      "\n",
      "Processing file: 37 Field Extract_14 May 2020.csv\n",
      "\n"
     ]
    },
    {
     "name": "stderr",
     "output_type": "stream",
     "text": [
      "/opt/anaconda3/lib/python3.8/site-packages/IPython/core/interactiveshell.py:3145: DtypeWarning: Columns (4,10,20,21,25,26,37,47) have mixed types.Specify dtype option on import or set low_memory=False.\n",
      "  has_raised = await self.run_ast_nodes(code_ast.body, cell_name,\n"
     ]
    },
    {
     "name": "stdout",
     "output_type": "stream",
     "text": [
      "Processing file: 37 Field Extract_20 Feb 2020 CSV.csv\n",
      "\n",
      "Processing file: 37 Field Extract_27 Jan 2020 CSV.csv\n",
      "\n",
      "Processing file: 37 Field Extract_25 June 2020.csv\n",
      "\n",
      "Processing file: 37 Field Extract_11 March 2020.csv\n",
      "\n"
     ]
    },
    {
     "name": "stderr",
     "output_type": "stream",
     "text": [
      "/opt/anaconda3/lib/python3.8/site-packages/IPython/core/interactiveshell.py:3145: DtypeWarning: Columns (4,26,47) have mixed types.Specify dtype option on import or set low_memory=False.\n",
      "  has_raised = await self.run_ast_nodes(code_ast.body, cell_name,\n"
     ]
    },
    {
     "name": "stdout",
     "output_type": "stream",
     "text": [
      "Writing data into csv file\n"
     ]
    }
   ],
   "source": [
    "import pandas as pd\n",
    "from collections import defaultdict\n",
    "\n",
    "months_dict = defaultdict(int)\n",
    "\n",
    "print(\"Started Processing files in folder: \" + data_path + \"\\n\")\n",
    "\n",
    "# go through each csv file in data folder and call transform_data func\n",
    "for file in csv_files:\n",
    "    print(\"Processing file: {}\\n\".format(file))\n",
    "    df = pd.read_csv(join(data_path, file))\n",
    "    df.dropna()\n",
    "    df = transform_data(df)\n",
    "    for index, row in df.iterrows():\n",
    "        current_date = dateutil.parser.parse(str(row['READ_DATE']))\n",
    "        current_date = current_date.strftime(\"%b %Y\")\n",
    "        temp = str(current_date) + \"[SEP]\" + str(row['CONSUMPTION_TYPE'])\n",
    "        months_dict[temp] += row['MONTHLY_CONSUMPTION']\n",
    "\n",
    "data = []\n",
    "            \n",
    "for key in months_dict.keys():\n",
    "    temp = key.split('[SEP]')\n",
    "    data.append((temp[0], temp[1], months_dict[key]))\n",
    "\n",
    "# write output dict into .csv called consumption.csv\n",
    "print(\"Writing data into csv file\")\n",
    "result_df = pd.DataFrame(data=data, columns=['Month', 'Type', 'Consumption'])\n",
    "result_df.to_csv('consumption.csv',index=False)\n",
    "        "
   ]
  },
  {
   "cell_type": "code",
   "execution_count": null,
   "metadata": {},
   "outputs": [],
   "source": []
  }
 ],
 "metadata": {
  "kernelspec": {
   "display_name": "Python 3",
   "language": "python",
   "name": "python3"
  },
  "language_info": {
   "codemirror_mode": {
    "name": "ipython",
    "version": 3
   },
   "file_extension": ".py",
   "mimetype": "text/x-python",
   "name": "python",
   "nbconvert_exporter": "python",
   "pygments_lexer": "ipython3",
   "version": "3.8.3"
  }
 },
 "nbformat": 4,
 "nbformat_minor": 4
}